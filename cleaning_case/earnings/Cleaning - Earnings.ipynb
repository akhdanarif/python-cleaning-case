{
 "cells": [
  {
   "cell_type": "code",
   "execution_count": 7,
   "id": "9bcbf13c-a9b1-43d8-82be-1e756816823e",
   "metadata": {},
   "outputs": [],
   "source": [
    "#importing necessary library\n",
    "import pandas as pd\n",
    "import numpy as np\n",
    "import glob\n",
    "import os\n",
    "import warnings\n",
    "warnings.simplefilter('ignore')\n",
    "\n",
    "#read the files depend on your local directory\n",
    "files = glob.glob('c:/Users/akhda/Documents/python_porto/cleaning_case/earnings/*.xlsx')\n",
    "\n",
    "#concatenate multiple files diminished by assigning new column with the filename\n",
    "df = pd.concat([pd.read_excel(f).assign(Files=os.path.basename(f).split('.')[0]) for f in files])\n",
    "\n",
    "#make function for the code\n",
    "def clean_earnings(df):\n",
    "    \n",
    "    #change dtype dict\n",
    "    dtype_dict = {'Order ID': str,\n",
    "            'Product ID': str,\n",
    "            'Plan ID': str,\n",
    "            'Payment ID': str,\n",
    "            'Commission rate': np.int64}\n",
    "    \n",
    "    #change dtype\n",
    "    df = df.astype(dtype_dict)\n",
    "    df['Time order created'] = pd.to_datetime(df['Time order created'], dayfirst=True)\n",
    "    df['Time order delivered'] = pd.to_datetime(df['Time order delivered'], dayfirst=True)\n",
    "    df['Time Commission Paid'] = pd.to_datetime(df['Time Commission Paid'], dayfirst=True)\n",
    "    \n",
    "    #move column account to the first column\n",
    "    first_column = df.pop('Files')\n",
    "    df.insert(1, 'Files', first_column)\n",
    "    \n",
    "    #lowercase column, replace space with underscore and renaming columns\n",
    "    newcols = df.columns.str.lower().str.replace(\" \",\"_\")\n",
    "    df.columns = newcols\n",
    "    df = df.reset_index().drop(columns='index')\n",
    "    \n",
    "    #split files column\n",
    "    split_files = df['files'].str.split(' ', expand=True).drop(columns=0).rename(columns={1:'location', 2:'paid_pending', 3:'period'}).reset_index().drop(columns='index')\n",
    "    df = pd.concat([split_files, df], axis=1).drop(columns='files').set_index('order_id')\n",
    "\n",
    "    #change format of content_id\n",
    "    df['content_id'] = df['content_id'].fillna(0).astype(np.int64).astype(str).str[:-3]\n",
    "    \n",
    "    #drop column sub_order_id & content_id\n",
    "    df = df.drop('sub_orderid', axis=1)\n",
    "    \n",
    "    #export to excel\n",
    "    return df.to_excel('c:/Users/akhda/Documents/python_porto/cleaning_case/earnings/Clean-earnings.xlsx')\n",
    "\n",
    "clean_earnings(df)"
   ]
  }
 ],
 "metadata": {
  "kernelspec": {
   "display_name": "Python 3",
   "language": "python",
   "name": "python3"
  },
  "language_info": {
   "codemirror_mode": {
    "name": "ipython",
    "version": 3
   },
   "file_extension": ".py",
   "mimetype": "text/x-python",
   "name": "python",
   "nbconvert_exporter": "python",
   "pygments_lexer": "ipython3",
   "version": "3.8.8"
  }
 },
 "nbformat": 4,
 "nbformat_minor": 5
}
